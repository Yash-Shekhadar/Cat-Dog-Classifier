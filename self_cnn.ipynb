{
 "cells": [
  {
   "cell_type": "code",
   "execution_count": 7,
   "metadata": {},
   "outputs": [],
   "source": [
    "from tensorflow.keras.models import Sequential\n",
    "from tensorflow.keras.layers import Dense, Flatten, MaxPooling2D, Convolution2D"
   ]
  },
  {
   "cell_type": "code",
   "execution_count": 8,
   "metadata": {},
   "outputs": [],
   "source": [
    "classifier = Sequential()"
   ]
  },
  {
   "cell_type": "code",
   "execution_count": 9,
   "metadata": {},
   "outputs": [],
   "source": [
    "## Convolution layer\n",
    "classifier.add(Convolution2D(32,3,3,activation='relu',input_shape=(64,64,3)))"
   ]
  },
  {
   "cell_type": "code",
   "execution_count": 10,
   "metadata": {},
   "outputs": [],
   "source": [
    "classifier.add(MaxPooling2D(pool_size=(2,2)))"
   ]
  },
  {
   "cell_type": "code",
   "execution_count": 11,
   "metadata": {},
   "outputs": [],
   "source": [
    "classifier.add(Flatten())"
   ]
  },
  {
   "cell_type": "code",
   "execution_count": 13,
   "metadata": {},
   "outputs": [],
   "source": [
    "classifier.add(Dense(units=128, activation='relu'))\n",
    "classifier.add(Dense(units=1, activation='sigmoid'))"
   ]
  },
  {
   "cell_type": "code",
   "execution_count": 14,
   "metadata": {},
   "outputs": [],
   "source": [
    "classifier.compile(optimizer='adam',loss='binary_crossentropy', metrics=['accuracy'])"
   ]
  },
  {
   "cell_type": "code",
   "execution_count": 17,
   "metadata": {},
   "outputs": [],
   "source": [
    "from tensorflow.keras.preprocessing.image import ImageDataGenerator"
   ]
  },
  {
   "cell_type": "code",
   "execution_count": 18,
   "metadata": {},
   "outputs": [],
   "source": [
    "train_datagen = ImageDataGenerator(\n",
    "        rescale=1./255,\n",
    "        shear_range=0.2,\n",
    "        zoom_range=0.2,\n",
    "        horizontal_flip=True)"
   ]
  },
  {
   "cell_type": "code",
   "execution_count": 19,
   "metadata": {},
   "outputs": [],
   "source": [
    "test_datagen = ImageDataGenerator(rescale=1./255)"
   ]
  },
  {
   "cell_type": "code",
   "execution_count": 22,
   "metadata": {},
   "outputs": [
    {
     "name": "stdout",
     "output_type": "stream",
     "text": [
      "Found 8000 images belonging to 2 classes.\n",
      "Found 2000 images belonging to 2 classes.\n"
     ]
    }
   ],
   "source": [
    "training_set = train_datagen.flow_from_directory('Convolutional_Neural_Networks/dataset/training_set',\n",
    "                                                target_size=(64, 64),\n",
    "                                                batch_size=10,\n",
    "                                                class_mode='binary')\n",
    "\n",
    "test_set = test_datagen.flow_from_directory('Convolutional_Neural_Networks/dataset/test_set',\n",
    "                                                        target_size=(64, 64),\n",
    "                                                        batch_size=10,\n",
    "                                                        class_mode='binary')"
   ]
  },
  {
   "cell_type": "code",
   "execution_count": 23,
   "metadata": {},
   "outputs": [
    {
     "name": "stdout",
     "output_type": "stream",
     "text": [
      "Epoch 1/25\n",
      "8000/8000 [==============================] - 505s 63ms/step - loss: 0.5365 - acc: 0.7260 - val_loss: 0.5264 - val_acc: 0.7480\n",
      "Epoch 2/25\n",
      "8000/8000 [==============================] - 413s 52ms/step - loss: 0.4437 - acc: 0.7900 - val_loss: 0.5273 - val_acc: 0.7680\n",
      "Epoch 3/25\n",
      "8000/8000 [==============================] - 410s 51ms/step - loss: 0.3761 - acc: 0.8303 - val_loss: 0.5994 - val_acc: 0.7485\n",
      "Epoch 4/25\n",
      "8000/8000 [==============================] - 413s 52ms/step - loss: 0.3160 - acc: 0.8611 - val_loss: 0.7398 - val_acc: 0.7300\n",
      "Epoch 5/25\n",
      "8000/8000 [==============================] - 412s 51ms/step - loss: 0.2670 - acc: 0.8864 - val_loss: 0.6931 - val_acc: 0.7595\n",
      "Epoch 6/25\n",
      "8000/8000 [==============================] - 412s 51ms/step - loss: 0.2260 - acc: 0.9058 - val_loss: 0.7693 - val_acc: 0.7460\n",
      "Epoch 7/25\n",
      "8000/8000 [==============================] - 413s 52ms/step - loss: 0.1947 - acc: 0.9210 - val_loss: 0.8173 - val_acc: 0.7540\n",
      "Epoch 8/25\n",
      "8000/8000 [==============================] - 410s 51ms/step - loss: 0.1670 - acc: 0.9331 - val_loss: 0.9553 - val_acc: 0.7490\n",
      "Epoch 9/25\n",
      "8000/8000 [==============================] - 412s 51ms/step - loss: 0.1460 - acc: 0.9432 - val_loss: 0.9985 - val_acc: 0.7515\n",
      "Epoch 10/25\n",
      "8000/8000 [==============================] - 418s 52ms/step - loss: 0.1317 - acc: 0.9494 - val_loss: 1.1443 - val_acc: 0.7570\n",
      "Epoch 11/25\n",
      "8000/8000 [==============================] - 412s 52ms/step - loss: 0.1175 - acc: 0.9554 - val_loss: 1.0691 - val_acc: 0.7600\n",
      "Epoch 12/25\n",
      "8000/8000 [==============================] - 416s 52ms/step - loss: 0.1043 - acc: 0.9603 - val_loss: 1.1168 - val_acc: 0.7600\n",
      "Epoch 13/25\n",
      "8000/8000 [==============================] - 412s 52ms/step - loss: 0.0987 - acc: 0.9642 - val_loss: 1.1976 - val_acc: 0.7580\n",
      "Epoch 14/25\n",
      "8000/8000 [==============================] - 411s 51ms/step - loss: 0.0951 - acc: 0.9658 - val_loss: 1.1965 - val_acc: 0.7585\n",
      "Epoch 15/25\n",
      "8000/8000 [==============================] - 412s 51ms/step - loss: 0.0843 - acc: 0.9694 - val_loss: 1.2281 - val_acc: 0.7605\n",
      "Epoch 16/25\n",
      "8000/8000 [==============================] - 410s 51ms/step - loss: 0.0791 - acc: 0.9712 - val_loss: 1.2510 - val_acc: 0.7600\n",
      "Epoch 17/25\n",
      "8000/8000 [==============================] - 412s 51ms/step - loss: 0.0728 - acc: 0.9742 - val_loss: 1.3051 - val_acc: 0.7535\n",
      "Epoch 18/25\n",
      "8000/8000 [==============================] - 413s 52ms/step - loss: 0.0721 - acc: 0.9738 - val_loss: 1.4551 - val_acc: 0.7425\n",
      "Epoch 19/25\n",
      "8000/8000 [==============================] - 413s 52ms/step - loss: 0.0692 - acc: 0.9752 - val_loss: 1.3629 - val_acc: 0.7410\n",
      "Epoch 20/25\n",
      "8000/8000 [==============================] - 412s 51ms/step - loss: 0.0625 - acc: 0.9776 - val_loss: 1.4337 - val_acc: 0.7510\n",
      "Epoch 21/25\n",
      "8000/8000 [==============================] - 429s 54ms/step - loss: 0.0603 - acc: 0.9779 - val_loss: 1.4207 - val_acc: 0.7555\n",
      "Epoch 22/25\n",
      "8000/8000 [==============================] - 413s 52ms/step - loss: 0.0559 - acc: 0.9806 - val_loss: 1.4310 - val_acc: 0.7540\n",
      "Epoch 23/25\n",
      "8000/8000 [==============================] - 413s 52ms/step - loss: 0.0560 - acc: 0.9806 - val_loss: 1.4325 - val_acc: 0.7585\n",
      "Epoch 24/25\n",
      "8000/8000 [==============================] - 412s 51ms/step - loss: 0.0548 - acc: 0.9807 - val_loss: 1.5458 - val_acc: 0.7505\n",
      "Epoch 25/25\n",
      "8000/8000 [==============================] - 416s 52ms/step - loss: 0.0530 - acc: 0.9820 - val_loss: 1.4844 - val_acc: 0.7540\n"
     ]
    },
    {
     "data": {
      "text/plain": [
       "<tensorflow.python.keras.callbacks.History at 0x27dd0368b70>"
      ]
     },
     "execution_count": 23,
     "metadata": {},
     "output_type": "execute_result"
    }
   ],
   "source": [
    "classifier.fit_generator(training_set,\n",
    "                    steps_per_epoch=8000,\n",
    "                    epochs=25,\n",
    "                    validation_data=test_set,\n",
    "                    validation_steps=2000)"
   ]
  },
  {
   "cell_type": "code",
   "execution_count": null,
   "metadata": {},
   "outputs": [],
   "source": []
  }
 ],
 "metadata": {
  "kernelspec": {
   "display_name": "Python 3",
   "language": "python",
   "name": "python3"
  },
  "language_info": {
   "codemirror_mode": {
    "name": "ipython",
    "version": 3
   },
   "file_extension": ".py",
   "mimetype": "text/x-python",
   "name": "python",
   "nbconvert_exporter": "python",
   "pygments_lexer": "ipython3",
   "version": "3.6.4"
  }
 },
 "nbformat": 4,
 "nbformat_minor": 2
}
